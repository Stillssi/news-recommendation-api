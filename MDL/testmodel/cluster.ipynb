{
 "cells": [
  {
   "cell_type": "code",
   "execution_count": null,
   "metadata": {},
   "outputs": [],
   "source": [
    "import pandas as pd\n",
    "from gensim.models.doc2vec import Doc2Vec\n",
    "import matplotlib.pyplot as plt\n",
    "from sklearn.decomposition import PCA\n",
    "from sklearn.cluster import DBSCAN\n",
    "import numpy as np\n",
    "from tqdm import tqdm\n",
    "\n",
    "def load_model(model_name, df):\n",
    "    df['corpus_vector'] = ''\n",
    "    # corpus_vector = pd.DataFrame([columns=])\n",
    "    model= Doc2Vec.load(model_name)\n",
    "    for i in range(len(df)):\n",
    "        df['corpus_vector'].iloc[i] = model.infer_vector(df['Content'].iloc[i].split())\n",
    "    return df\n",
    "\n",
    "def dbscan(df):\n",
    "    \"\"\"Function to form dbscan clusters and display them\"\"\"\n",
    "#     eps = 0.005# how close points should be to each other to be considered a part of a cluster \n",
    "#     min_samples = 3# the minimum number of points to form a dense region  \n",
    "#     dbscan = DBSCAN( eps=eps, min_samples=min_samples,metric = \"cosine\" ) \n",
    "#     dbscan_model = dbscan.fit(corpus_vector)\n",
    "    \n",
    "    pca = PCA(n_components=2)\n",
    "    result = pca.fit_transform(df['corpus_vector'].to_list())\n",
    "    print(result.shape)\n",
    "    db = DBSCAN(eps=0.002, min_samples=3)\n",
    "    dbscan_model = db.fit(result)\n",
    "    #Forming the clusters\n",
    "\n",
    "    core_samples_mask = np.zeros_like(dbscan_model.labels_, dtype=bool)\n",
    "    core_samples_mask[dbscan_model.core_sample_indices_] = True\n",
    "    labels1 = dbscan_model.labels_\n",
    "    print(labels1)\n",
    "    n_clusters_ = len(set(labels1)) - (1 if -1 in labels1 else 0) # Number of clusters in labels\n",
    "    # print(labels1)\n",
    "    print(len(labels1))\n",
    "    # print(n_clusters_) # number of clusters\n",
    "    df['ClusterNum'] =''\n",
    "    clusters1 = {} # a dictionary for different cluster \n",
    "    for c, i in enumerate(labels1):\n",
    "        if i == -1:\n",
    "            continue\n",
    "        elif i in clusters1:\n",
    "            clusters1[i].append(df['ID'].iloc[c])\n",
    "            df['ClusterNum'].iloc[c] = i\n",
    "        else:\n",
    "            clusters1[i] = [df['ID'].iloc[c]]\n",
    "            df['ClusterNum'].iloc[c] = i\n",
    "    with open('./cluster.txt', 'w') as f:\n",
    "        for c in clusters1:\n",
    "            f.write(\"Cluster No.\"+\" \"+str(c)+\" \"+str(clusters1[c]))\n",
    "            f.write('--------------\\n')\n",
    "            f.write('\\n')  \n",
    "    for c in clusters1: # print the different clusters\n",
    "        print(\"Cluster No.\"+\" \"+str(c)+\" \"+str(clusters1[c]))\n",
    "        print()\n",
    "    \n",
    "    return df, clusters1"
   ]
  },
  {
   "cell_type": "code",
   "execution_count": null,
   "metadata": {},
   "outputs": [],
   "source": [
    "\n",
    "df = pd.read_csv('/Users/stillssi/Desktop/NEWS_TEAM_4/MDL/testmodel/sample_df.csv')\n",
    "df = load_model(\"/Users/stillssi/Desktop/NEWS_TEAM_4/MDL/testmodel/trainedMDL\",df)\n"
   ]
  },
  {
   "cell_type": "code",
   "execution_count": null,
   "metadata": {},
   "outputs": [],
   "source": [
    "df.drop(['Unnamed: 0'], axis=1, inplace=True)"
   ]
  },
  {
   "cell_type": "code",
   "execution_count": null,
   "metadata": {},
   "outputs": [],
   "source": [
    "df, cluster1 = dbscan(df)"
   ]
  },
  {
   "cell_type": "code",
   "execution_count": null,
   "metadata": {},
   "outputs": [],
   "source": [
    "df.drop(['CosSimilarity'], axis=1, inplace=True)\n",
    "df_1 = df[df['ClusterNum'] != '']\n",
    "cluster_df = pd.DataFrame(data = [cluster1])\n",
    "cluster_df=cluster_df.transpose()"
   ]
  },
  {
   "cell_type": "code",
   "execution_count": 1,
   "metadata": {},
   "outputs": [
    {
     "ename": "NameError",
     "evalue": "name 'cluster_df' is not defined",
     "output_type": "error",
     "traceback": [
      "\u001b[0;31m---------------------------------------------------------------------------\u001b[0m",
      "\u001b[0;31mNameError\u001b[0m                                 Traceback (most recent call last)",
      "Cell \u001b[0;32mIn [1], line 1\u001b[0m\n\u001b[0;32m----> 1\u001b[0m cluster_df\u001b[39m.\u001b[39mto_csv(\u001b[39m'\u001b[39m\u001b[39m./cluster_list\u001b[39m\u001b[39m'\u001b[39m)\n",
      "\u001b[0;31mNameError\u001b[0m: name 'cluster_df' is not defined"
     ]
    }
   ],
   "source": [
    "cluster_df.to_csv('./cluster_list')"
   ]
  },
  {
   "cell_type": "code",
   "execution_count": null,
   "metadata": {},
   "outputs": [],
   "source": []
  }
 ],
 "metadata": {
  "kernelspec": {
   "display_name": "project1",
   "language": "python",
   "name": "python3"
  },
  "language_info": {
   "codemirror_mode": {
    "name": "ipython",
    "version": 3
   },
   "file_extension": ".py",
   "mimetype": "text/x-python",
   "name": "python",
   "nbconvert_exporter": "python",
   "pygments_lexer": "ipython3",
   "version": "3.8.15"
  },
  "orig_nbformat": 4,
  "vscode": {
   "interpreter": {
    "hash": "bb0c2b2e33a8bbc9324abe172f16f5be0a36d26d93f9b38dc3fecfa8c79d8138"
   }
  }
 },
 "nbformat": 4,
 "nbformat_minor": 2
}
