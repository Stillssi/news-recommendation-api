{
 "cells": [
  {
   "cell_type": "code",
   "execution_count": 9,
   "metadata": {},
   "outputs": [
    {
     "name": "stderr",
     "output_type": "stream",
     "text": [
      "Exception ignored in: <function DBread.__del__ at 0x7fe0d31ee950>\n",
      "Traceback (most recent call last):\n",
      "  File \"/var/folders/px/2gqqh24s6yb9zp3q9m6th5f80000gn/T/ipykernel_1312/2936170907.py\", line 43, in __del__\n",
      "AttributeError: 'DBread' object has no attribute 'conn'\n",
      "Exception ignored in: <function DBread.__del__ at 0x7fe0d328b830>\n",
      "Traceback (most recent call last):\n",
      "  File \"/var/folders/px/2gqqh24s6yb9zp3q9m6th5f80000gn/T/ipykernel_1312/430468594.py\", line 43, in __del__\n",
      "AttributeError: 'DBread' object has no attribute 'conn'\n"
     ]
    }
   ],
   "source": [
    "import pandas as pd\n",
    "import numpy as np\n",
    "import matplotlib.pyplot as plt\n",
    "import seaborn as sns\n",
    "from ast import literal_eval\n",
    "from sklearn.feature_extraction.text import TfidfVectorizer\n",
    "from sklearn.feature_extraction.text import CountVectorizer\n",
    "from sklearn.metrics import mean_squared_error\n",
    "import pymysql, calendar, time, json\n",
    "import datetime\n",
    "import pandas as pd\n",
    "\n",
    "class DBread:\n",
    "    sql_news='SELECT * FROM news_team_4.tb_news;'\n",
    "    sql_comment='SELECT * FROM news_team_4.tb_comment;'\n",
    "    sql_user='SELECT * FROM news_team_4.tb_user;'\n",
    "    sql_nocomment='select * from news_team_4.tb_news tnt where id in (select NewsID  from news_team_4.tb_comment tc group by NewsID );'\n",
    "    How_many=400000\n",
    "    def __init__(self):\n",
    "        \n",
    "        self.conn = pymysql.connect(host='localhost', user='root',\n",
    "            password='', db='', charset='utf8',cursorclass=pymysql.cursors.DictCursor)\n",
    "\n",
    "    def data_news(self):\n",
    "        \n",
    "        with self.conn.cursor() as curs:\n",
    "            curs.execute(self.sql_nocomment)\n",
    "            # rs=curs.fetchmany(self.How_many)\n",
    "            rs=curs.fetchall()\n",
    "        news=pd.DataFrame(rs)\n",
    "        return news\n",
    "    def data_comment(self):\n",
    "\n",
    "        with self.conn.cursor() as curs:\n",
    "            curs.execute(self.sql_comment)\n",
    "            # rs=curs.fetchmany(self.How_many)\n",
    "            rs=curs.fetchall()\n",
    "\n",
    "        comment=pd.DataFrame(rs)\n",
    "        return comment\n",
    "    def data_user(self):\n",
    "        with self.conn.cursor() as curs:\n",
    "            curs.execute(self.sql_user)\n",
    "            # rs=curs.fetchmany(self.How_many)\n",
    "            rs=curs.fetchall()\n",
    "\n",
    "        user=pd.DataFrame(rs)\n",
    "        return user\n",
    "\n",
    "    def __del__(self):\n",
    "       self.conn.close()\n",
    "        \n",
    "if __name__ == '__main__':\n",
    "    news = DBread().data_news()\n",
    "    comment=DBread().data_comment()\n",
    "    # user=DBread().data_user()\n",
    "    \n",
    "    "
   ]
  },
  {
   "cell_type": "code",
   "execution_count": 10,
   "metadata": {},
   "outputs": [],
   "source": [
    "\n",
    "def get_rmse(R, P, Q, non_zeros):\n",
    "    error = 0\n",
    "    # 두개의 분해된 행렬 P와 Q.T의 내적으로 예측 R 행렬 생성\n",
    "    full_pred_matrix = np.dot(P, Q.T)\n",
    "    \n",
    "    # 실제 R 행렬에서 널이 아닌 값의 위치 인덱스 추출하여 실제 R 행렬과 예측 행렬의 RMSE 추출\n",
    "    x_non_zero_ind = [non_zero[0] for non_zero in non_zeros]\n",
    "    y_non_zero_ind = [non_zero[1] for non_zero in non_zeros]\n",
    "    R_non_zeros = R[x_non_zero_ind, y_non_zero_ind]\n",
    "    full_pred_matrix_non_zeros = full_pred_matrix[x_non_zero_ind, y_non_zero_ind]\n",
    "      \n",
    "    mse = mean_squared_error(R_non_zeros, full_pred_matrix_non_zeros)\n",
    "    rmse = np.sqrt(mse)\n",
    "    \n",
    "    return rmse\n",
    "\n",
    "\n",
    "def matrix_factorization(R, K, steps=200, learning_rate=0.01, r_lambda = 0.01):\n",
    "    num_users, num_items = R.shape\n",
    "    # P와 Q 매트릭스의 크기를 지정하고 정규분포를 가진 랜덤한 값으로 입력합니다. \n",
    "    np.random.seed(1)\n",
    "    P = np.random.normal(scale=1./K, size=(num_users, K))\n",
    "    Q = np.random.normal(scale=1./K, size=(num_items, K))\n",
    "\n",
    "    break_count = 0\n",
    "       \n",
    "    # R > 0 인 행 위치, 열 위치, 값을 non_zeros 리스트 객체에 저장. \n",
    "    non_zeros = [ (i, j, R[i,j]) for i in range(num_users) for j in range(num_items) if R[i,j] > 0 ]\n",
    "   \n",
    "    # SGD기법으로 P와 Q 매트릭스를 계속 업데이트. \n",
    "    for step in range(steps):\n",
    "        for i, j, r in non_zeros:\n",
    "            # 실제 값과 예측 값의 차이인 오류 값 구함\n",
    "            eij = r - np.dot(P[i, :], Q[j, :].T)\n",
    "            # Regularization을 반영한 SGD 업데이트 공식 적용\n",
    "            P[i,:] = P[i,:] + learning_rate*(eij * Q[j, :] - r_lambda*P[i,:])\n",
    "            Q[j,:] = Q[j,:] + learning_rate*(eij * P[i, :] - r_lambda*Q[j,:])\n",
    "       \n",
    "        rmse = get_rmse(R, P, Q, non_zeros)\n",
    "        if (step % 10) == 0 :\n",
    "            print(\"### iteration step : \", step,\" rmse : \", rmse)\n",
    "            \n",
    "    return P, Q\n",
    "\n",
    "def matrix(data):\n",
    "    P, Q = matrix_factorization(data.values, K=50, steps=300, learning_rate=0.01, r_lambda = 0.01)\n",
    "    pred_matrix = np.dot(P, Q.T)\n",
    "\n",
    "    return pred_matrix\n",
    "\n",
    "def recommend_list(matrix,userID,number_user):\n",
    "    compare=matrix.loc[userID, :].sort_values(ascending=False)[1:number_user]\n",
    "    compare_lists=list(compare.index)\n",
    "    Recommend_list=[]\n",
    "    for compare_list in compare_lists:\n",
    "        New_one=list(coll_user_news.loc[coll_user_news.UserID==compare_list].NewsID.astype('str'))\n",
    "        Already_seen=list(coll_user_news.loc[coll_user_news.UserID==userID].NewsID.astype('str'))\n",
    "\n",
    "        for News in range(len(New_one)):\n",
    "            \n",
    "            if New_one[News]  not in Already_seen:\n",
    "                Recommend_list.append(int(New_one[News]))\n",
    "\n",
    "    return Recommend_list\n",
    "    \n",
    "def get_unseen_news(ratings_matrix, userId):\n",
    "    user_rating = ratings_matrix.loc[userId,:]\n",
    "    \n",
    "    already_seen = user_rating[ user_rating == 1].index.tolist()\n",
    "    \n",
    "    news_list = ratings_matrix.columns.tolist()\n",
    "    \n",
    "    \n",
    "    unseen_list = [ news for news in news_list if news not in already_seen]\n",
    "    \n",
    "    return unseen_list\n",
    "\n",
    "news=news.loc[(news.DomainID==2)]\n",
    "coll_news=news[['ID','Content']].rename(columns={'ID':'NewsID'}) # 여기서 ID 는 news id\n",
    "coll_comment=comment[['UserID','NewsID']]\n",
    "coll_user_news=pd.merge(coll_comment,coll_news,on='NewsID')\n",
    "coll_user_news.dropna(inplace=True)\n",
    "coll_user_news['rating']=1\n",
    "coll_user_news\n",
    "coll_user_news.Content.replace('',np.nan,inplace=True)\n",
    "coll_user_news.dropna(axis=0,inplace=True)\n",
    "\n",
    "\n",
    "\n",
    "\n"
   ]
  },
  {
   "cell_type": "code",
   "execution_count": 18,
   "metadata": {},
   "outputs": [],
   "source": [
    "data = coll_user_news.pivot_table('rating', index = 'UserID', columns = 'NewsID')# data = data.transpose()\n",
    "\n",
    "\n"
   ]
  },
  {
   "cell_type": "code",
   "execution_count": 19,
   "metadata": {},
   "outputs": [],
   "source": [
    "news_sim_df=matrix(data)\n",
    "ratings_pred_matrix = pd.DataFrame(data=news_sim_df, index= data.index,\n",
    "                                columns = data.columns)"
   ]
  },
  {
   "cell_type": "code",
   "execution_count": 97,
   "metadata": {},
   "outputs": [
    {
     "name": "stderr",
     "output_type": "stream",
     "text": [
      "Exception ignored in: <function DBread.__del__ at 0x7fe0d328bf80>\n",
      "Traceback (most recent call last):\n",
      "  File \"/var/folders/px/2gqqh24s6yb9zp3q9m6th5f80000gn/T/ipykernel_1312/430468594.py\", line 43, in __del__\n",
      "AttributeError: 'DBread' object has no attribute 'conn'\n"
     ]
    }
   ],
   "source": [
    "Data_save=pd.DataFrame(index=ratings_pred_matrix.index,columns=['recommend'])\n",
    "\n",
    "for rating in range(len(ratings_pred_matrix.index)):\n",
    "    \n",
    "    unseen_list = get_unseen_news(data,ratings_pred_matrix.index[rating])\n",
    "    recomm_news = list(ratings_pred_matrix.loc[ratings_pred_matrix.index[rating], unseen_list].sort_values(ascending=False)[:10].index)\n",
    "    Data_save.loc[ratings_pred_matrix.index[rating],'recommend']=recomm_news\n",
    "\n",
    "Data_save['UserID']=Data_save.index\n",
    "Data_save.drop(columns='UserID',inplace=True)\n",
    "total_Data=pd.merge(comment,Data_save,on='UserID')\n"
   ]
  },
  {
   "cell_type": "code",
   "execution_count": 123,
   "metadata": {},
   "outputs": [],
   "source": [
    "total_Data.to_csv('total2.csv')"
   ]
  },
  {
   "cell_type": "code",
   "execution_count": 149,
   "metadata": {},
   "outputs": [
    {
     "name": "stdout",
     "output_type": "stream",
     "text": [
      "Series([], Name: Content, dtype: object)\n",
      "21596    박지영 기자 “카메라 얼마나 더 좋아지려고갤럭시S23 울트라 ‘뒤태’ 보니”삼성전자...\n",
      "21597    박지영 기자 “카메라 얼마나 더 좋아지려고갤럭시S23 울트라 ‘뒤태’ 보니”삼성전자...\n",
      "21598    박지영 기자 “카메라 얼마나 더 좋아지려고갤럭시S23 울트라 ‘뒤태’ 보니”삼성전자...\n",
      "21599    박지영 기자 “카메라 얼마나 더 좋아지려고갤럭시S23 울트라 ‘뒤태’ 보니”삼성전자...\n",
      "21600    박지영 기자 “카메라 얼마나 더 좋아지려고갤럭시S23 울트라 ‘뒤태’ 보니”삼성전자...\n",
      "                               ...                        \n",
      "21717    박지영 기자 “카메라 얼마나 더 좋아지려고갤럭시S23 울트라 ‘뒤태’ 보니”삼성전자...\n",
      "21718    박지영 기자 “카메라 얼마나 더 좋아지려고갤럭시S23 울트라 ‘뒤태’ 보니”삼성전자...\n",
      "21719    박지영 기자 “카메라 얼마나 더 좋아지려고갤럭시S23 울트라 ‘뒤태’ 보니”삼성전자...\n",
      "21720    박지영 기자 “카메라 얼마나 더 좋아지려고갤럭시S23 울트라 ‘뒤태’ 보니”삼성전자...\n",
      "21721    박지영 기자 “카메라 얼마나 더 좋아지려고갤럭시S23 울트라 ‘뒤태’ 보니”삼성전자...\n",
      "Name: Content, Length: 126, dtype: object\n"
     ]
    }
   ],
   "source": [
    "# print(coll_user_news.loc[(coll_user_news.UserID==21597)].Content)\n",
    "# print(coll_user_news.loc[(coll_user_news.NewsID==591068)].Content)#.iloc[0]\n"
   ]
  }
 ],
 "metadata": {
  "kernelspec": {
   "display_name": "Python 3.7.13 ('Yunseo2')",
   "language": "python",
   "name": "python3"
  },
  "language_info": {
   "codemirror_mode": {
    "name": "ipython",
    "version": 3
   },
   "file_extension": ".py",
   "mimetype": "text/x-python",
   "name": "python",
   "nbconvert_exporter": "python",
   "pygments_lexer": "ipython3",
   "version": "3.7.13"
  },
  "orig_nbformat": 4,
  "vscode": {
   "interpreter": {
    "hash": "d91612a4258c36bf55ca591b9905a57981950293511597ac5b57f5777cacf37b"
   }
  }
 },
 "nbformat": 4,
 "nbformat_minor": 2
}
